{
 "cells": [
  {
   "cell_type": "code",
   "execution_count": 1,
   "id": "c4fa821b",
   "metadata": {},
   "outputs": [],
   "source": [
    "import numpy as np \n",
    "from numpy import genfromtxt"
   ]
  },
  {
   "cell_type": "code",
   "execution_count": 2,
   "id": "4cc37cf4",
   "metadata": {},
   "outputs": [],
   "source": [
    "#using Bank Authentication Data Set, which contain FEATURES of images not images\n",
    "\n",
    "data = genfromtxt('bank_note_data.txt', delimiter = ',')\n",
    "\n",
    "# separating each note by a string ','"
   ]
  },
  {
   "cell_type": "code",
   "execution_count": 3,
   "id": "746c6478",
   "metadata": {},
   "outputs": [
    {
     "data": {
      "text/plain": [
       "array([[  3.6216 ,   8.6661 ,  -2.8073 ,  -0.44699,   0.     ],\n",
       "       [  4.5459 ,   8.1674 ,  -2.4586 ,  -1.4621 ,   0.     ],\n",
       "       [  3.866  ,  -2.6383 ,   1.9242 ,   0.10645,   0.     ],\n",
       "       ...,\n",
       "       [ -3.7503 , -13.4586 ,  17.5932 ,  -2.7771 ,   1.     ],\n",
       "       [ -3.5637 ,  -8.3827 ,  12.393  ,  -1.2823 ,   1.     ],\n",
       "       [ -2.5419 ,  -0.65804,   2.6842 ,   1.1952 ,   1.     ]])"
      ]
     },
     "execution_count": 3,
     "metadata": {},
     "output_type": "execute_result"
    }
   ],
   "source": [
    "data\n",
    "\n",
    "# 0 is that the bank note is a forgery and 1 that it is real \n",
    "# 0 and 1 are two separate classes which will be obtained after feeding the model with the features...3.6216,8.6661 etc"
   ]
  },
  {
   "cell_type": "code",
   "execution_count": 4,
   "id": "bf6f2bd0",
   "metadata": {},
   "outputs": [],
   "source": [
    "labels = data[:,4]\n",
    "\n",
    "#all the rows at the last column indexed at 4"
   ]
  },
  {
   "cell_type": "code",
   "execution_count": 5,
   "id": "ee012483",
   "metadata": {},
   "outputs": [
    {
     "data": {
      "text/plain": [
       "array([0., 0., 0., ..., 1., 1., 1.])"
      ]
     },
     "execution_count": 5,
     "metadata": {},
     "output_type": "execute_result"
    }
   ],
   "source": [
    "labels #classes"
   ]
  },
  {
   "cell_type": "code",
   "execution_count": 6,
   "id": "6d8808b1",
   "metadata": {},
   "outputs": [],
   "source": [
    "features = data[:,:4]"
   ]
  },
  {
   "cell_type": "code",
   "execution_count": 7,
   "id": "29783b2f",
   "metadata": {},
   "outputs": [
    {
     "data": {
      "text/plain": [
       "array([[  3.6216 ,   8.6661 ,  -2.8073 ,  -0.44699],\n",
       "       [  4.5459 ,   8.1674 ,  -2.4586 ,  -1.4621 ],\n",
       "       [  3.866  ,  -2.6383 ,   1.9242 ,   0.10645],\n",
       "       ...,\n",
       "       [ -3.7503 , -13.4586 ,  17.5932 ,  -2.7771 ],\n",
       "       [ -3.5637 ,  -8.3827 ,  12.393  ,  -1.2823 ],\n",
       "       [ -2.5419 ,  -0.65804,   2.6842 ,   1.1952 ]])"
      ]
     },
     "execution_count": 7,
     "metadata": {},
     "output_type": "execute_result"
    }
   ],
   "source": [
    "features"
   ]
  },
  {
   "cell_type": "code",
   "execution_count": 8,
   "id": "589982db",
   "metadata": {},
   "outputs": [],
   "source": [
    "# Spliting data for training and testing\n",
    "\n",
    "X = features \n",
    "y = labels\n",
    "\n",
    "#assigning to X and y because of convention"
   ]
  },
  {
   "cell_type": "code",
   "execution_count": 9,
   "id": "ecbc0797",
   "metadata": {},
   "outputs": [],
   "source": [
    "from sklearn.model_selection import train_test_split\n",
    "\n",
    "#train_test_split will shuffle and split the data"
   ]
  },
  {
   "cell_type": "code",
   "execution_count": 10,
   "id": "fef8e8bb",
   "metadata": {},
   "outputs": [],
   "source": [
    "X_train, X_test, y_train, y_test = train_test_split(X, y, test_size=0.33, random_state=42)\n",
    "\n",
    "#test size is splitting 1/3 for test, rest fro training and random state gives the same random values each time"
   ]
  },
  {
   "cell_type": "code",
   "execution_count": 11,
   "id": "bb3d93ae",
   "metadata": {},
   "outputs": [
    {
     "data": {
      "text/plain": [
       "array([[ 1.5691  ,  6.3465  , -0.1828  , -2.4099  ],\n",
       "       [-0.27802 ,  8.1881  , -3.1338  , -2.5276  ],\n",
       "       [ 0.051979,  7.0521  , -2.0541  , -3.1508  ],\n",
       "       ...,\n",
       "       [ 3.5127  ,  2.9073  ,  1.0579  ,  0.40774 ],\n",
       "       [ 5.504   , 10.3671  , -4.413   , -4.0211  ],\n",
       "       [-0.2062  ,  9.2207  , -3.7044  , -6.8103  ]])"
      ]
     },
     "execution_count": 11,
     "metadata": {},
     "output_type": "execute_result"
    }
   ],
   "source": [
    "X_test\n",
    "\n",
    "#representing 33% of all features in X"
   ]
  },
  {
   "cell_type": "code",
   "execution_count": 12,
   "id": "95a52087",
   "metadata": {},
   "outputs": [
    {
     "data": {
      "text/plain": [
       "array([[-0.8734  , -0.033118, -0.20165 ,  0.55774 ],\n",
       "       [ 2.0177  ,  1.7982  , -2.9581  ,  0.2099  ],\n",
       "       [-0.36038 ,  4.1158  ,  3.1143  , -0.37199 ],\n",
       "       ...,\n",
       "       [-7.0364  ,  9.2931  ,  0.16594 , -4.5396  ],\n",
       "       [-3.4605  ,  2.6901  ,  0.16165 , -1.0224  ],\n",
       "       [-3.3582  , -7.2404  , 11.4419  , -0.57113 ]])"
      ]
     },
     "execution_count": 12,
     "metadata": {},
     "output_type": "execute_result"
    }
   ],
   "source": [
    "X_train\n",
    "\n",
    "#the rest 67% features for training"
   ]
  },
  {
   "cell_type": "code",
   "execution_count": 13,
   "id": "9e25f30f",
   "metadata": {},
   "outputs": [],
   "source": [
    "#Data preprocessing (Standardizing the Data)\n",
    "\n",
    "#Standardization just means normalizing the values to all fit between a certain range, like 0-1, or -1 to 1.\n",
    "\n",
    "from sklearn.preprocessing import MinMaxScaler"
   ]
  },
  {
   "cell_type": "code",
   "execution_count": 14,
   "id": "0162d995",
   "metadata": {},
   "outputs": [],
   "source": [
    "scaler_object = MinMaxScaler()"
   ]
  },
  {
   "cell_type": "code",
   "execution_count": 18,
   "id": "3b7def0e",
   "metadata": {},
   "outputs": [
    {
     "data": {
      "text/plain": [
       "MinMaxScaler()"
      ]
     },
     "execution_count": 18,
     "metadata": {},
     "output_type": "execute_result"
    }
   ],
   "source": [
    "#fit only to the training data not test data, that would be cheating\n",
    "scaler_object.fit(X_train)"
   ]
  },
  {
   "cell_type": "code",
   "execution_count": 19,
   "id": "037c0a2a",
   "metadata": {},
   "outputs": [],
   "source": [
    "scaled_X_train = scaler_object.transform(X_train)"
   ]
  },
  {
   "cell_type": "code",
   "execution_count": 20,
   "id": "4894b202",
   "metadata": {},
   "outputs": [],
   "source": [
    "scaled_X_test = scaler_object.transform(X_test)"
   ]
  },
  {
   "cell_type": "code",
   "execution_count": 24,
   "id": "569ceb38",
   "metadata": {},
   "outputs": [
    {
     "data": {
      "text/plain": [
       "array([[4.44850688e-01, 5.14130449e-01, 2.18194638e-01, 8.50172258e-01],\n",
       "       [6.53339968e-01, 5.82655745e-01, 9.93242398e-02, 8.17696322e-01],\n",
       "       [4.81846700e-01, 6.69377018e-01, 3.61193167e-01, 7.63368407e-01],\n",
       "       ...,\n",
       "       [4.11050776e-04, 8.63104170e-01, 2.34046756e-01, 3.74261253e-01],\n",
       "       [2.58284115e-01, 6.16029366e-01, 2.33861752e-01, 7.02643151e-01],\n",
       "       [2.65661395e-01, 2.44444278e-01, 7.20316361e-01, 7.44775785e-01]])"
      ]
     },
     "execution_count": 24,
     "metadata": {},
     "output_type": "execute_result"
    }
   ],
   "source": [
    "#scaled_X_train.min()\n",
    "#scaled_X_train.max()\n",
    "\n",
    "#all values are now between 0 and 1\n",
    "scaled_X_train"
   ]
  },
  {
   "cell_type": "code",
   "execution_count": 25,
   "id": "c44d1889",
   "metadata": {},
   "outputs": [],
   "source": [
    "#building the model\n",
    "\n",
    "from keras.models import Sequential\n",
    "from keras.layers import Dense"
   ]
  },
  {
   "cell_type": "code",
   "execution_count": 26,
   "id": "1d517cfd",
   "metadata": {},
   "outputs": [],
   "source": [
    "model = Sequential()\n",
    "\n",
    "#input layer, 8 neurons, expects input of 4 features \n",
    "model.add(Dense(4,input_dim=4,activation='relu'))\n",
    "\n",
    "#hidden densely connected layer\n",
    "model.add(Dense(8, activation='relu'))\n",
    "\n",
    "#output layer, last layer to ouput 0 or 1 (labels)\n",
    "model.add(Dense(1,activation='sigmoid'))"
   ]
  },
  {
   "cell_type": "code",
   "execution_count": 28,
   "id": "ce459f75",
   "metadata": {},
   "outputs": [],
   "source": [
    "#compiling the model reequires a loss function,optimizer and metrics\n",
    "\n",
    "model.compile(loss='binary_crossentropy',optimizer='adam',metrics=['accuracy'])"
   ]
  },
  {
   "cell_type": "code",
   "execution_count": 43,
   "id": "64837ee4",
   "metadata": {},
   "outputs": [
    {
     "name": "stdout",
     "output_type": "stream",
     "text": [
      "Epoch 1/100\n",
      "29/29 - 0s - loss: 0.1336 - accuracy: 0.9706 - 39ms/epoch - 1ms/step\n",
      "Epoch 2/100\n",
      "29/29 - 0s - loss: 0.1282 - accuracy: 0.9706 - 38ms/epoch - 1ms/step\n",
      "Epoch 3/100\n",
      "29/29 - 0s - loss: 0.1246 - accuracy: 0.9706 - 38ms/epoch - 1ms/step\n",
      "Epoch 4/100\n",
      "29/29 - 0s - loss: 0.1196 - accuracy: 0.9750 - 43ms/epoch - 1ms/step\n",
      "Epoch 5/100\n",
      "29/29 - 0s - loss: 0.1164 - accuracy: 0.9771 - 42ms/epoch - 1ms/step\n",
      "Epoch 6/100\n",
      "29/29 - 0s - loss: 0.1123 - accuracy: 0.9761 - 42ms/epoch - 1ms/step\n",
      "Epoch 7/100\n",
      "29/29 - 0s - loss: 0.1092 - accuracy: 0.9771 - 39ms/epoch - 1ms/step\n",
      "Epoch 8/100\n",
      "29/29 - 0s - loss: 0.1055 - accuracy: 0.9771 - 37ms/epoch - 1ms/step\n",
      "Epoch 9/100\n",
      "29/29 - 0s - loss: 0.1021 - accuracy: 0.9826 - 38ms/epoch - 1ms/step\n",
      "Epoch 10/100\n",
      "29/29 - 0s - loss: 0.0991 - accuracy: 0.9815 - 36ms/epoch - 1ms/step\n",
      "Epoch 11/100\n",
      "29/29 - 0s - loss: 0.0961 - accuracy: 0.9837 - 36ms/epoch - 1ms/step\n",
      "Epoch 12/100\n",
      "29/29 - 0s - loss: 0.0930 - accuracy: 0.9859 - 37ms/epoch - 1ms/step\n",
      "Epoch 13/100\n",
      "29/29 - 0s - loss: 0.0909 - accuracy: 0.9837 - 37ms/epoch - 1ms/step\n",
      "Epoch 14/100\n",
      "29/29 - 0s - loss: 0.0881 - accuracy: 0.9859 - 37ms/epoch - 1ms/step\n",
      "Epoch 15/100\n",
      "29/29 - 0s - loss: 0.0855 - accuracy: 0.9859 - 36ms/epoch - 1ms/step\n",
      "Epoch 16/100\n",
      "29/29 - 0s - loss: 0.0828 - accuracy: 0.9859 - 37ms/epoch - 1ms/step\n",
      "Epoch 17/100\n",
      "29/29 - 0s - loss: 0.0810 - accuracy: 0.9869 - 37ms/epoch - 1ms/step\n",
      "Epoch 18/100\n",
      "29/29 - 0s - loss: 0.0781 - accuracy: 0.9891 - 37ms/epoch - 1ms/step\n",
      "Epoch 19/100\n",
      "29/29 - 0s - loss: 0.0762 - accuracy: 0.9891 - 38ms/epoch - 1ms/step\n",
      "Epoch 20/100\n",
      "29/29 - 0s - loss: 0.0745 - accuracy: 0.9913 - 39ms/epoch - 1ms/step\n",
      "Epoch 21/100\n",
      "29/29 - 0s - loss: 0.0721 - accuracy: 0.9935 - 37ms/epoch - 1ms/step\n",
      "Epoch 22/100\n",
      "29/29 - 0s - loss: 0.0704 - accuracy: 0.9924 - 37ms/epoch - 1ms/step\n",
      "Epoch 23/100\n",
      "29/29 - 0s - loss: 0.0689 - accuracy: 0.9935 - 37ms/epoch - 1ms/step\n",
      "Epoch 24/100\n",
      "29/29 - 0s - loss: 0.0669 - accuracy: 0.9935 - 38ms/epoch - 1ms/step\n",
      "Epoch 25/100\n",
      "29/29 - 0s - loss: 0.0652 - accuracy: 0.9946 - 37ms/epoch - 1ms/step\n",
      "Epoch 26/100\n",
      "29/29 - 0s - loss: 0.0637 - accuracy: 0.9946 - 38ms/epoch - 1ms/step\n",
      "Epoch 27/100\n",
      "29/29 - 0s - loss: 0.0625 - accuracy: 0.9946 - 36ms/epoch - 1ms/step\n",
      "Epoch 28/100\n",
      "29/29 - 0s - loss: 0.0608 - accuracy: 0.9924 - 38ms/epoch - 1ms/step\n",
      "Epoch 29/100\n",
      "29/29 - 0s - loss: 0.0610 - accuracy: 0.9935 - 36ms/epoch - 1ms/step\n",
      "Epoch 30/100\n",
      "29/29 - 0s - loss: 0.0582 - accuracy: 0.9956 - 37ms/epoch - 1ms/step\n",
      "Epoch 31/100\n",
      "29/29 - 0s - loss: 0.0569 - accuracy: 0.9956 - 37ms/epoch - 1ms/step\n",
      "Epoch 32/100\n",
      "29/29 - 0s - loss: 0.0562 - accuracy: 0.9946 - 38ms/epoch - 1ms/step\n",
      "Epoch 33/100\n",
      "29/29 - 0s - loss: 0.0542 - accuracy: 0.9956 - 39ms/epoch - 1ms/step\n",
      "Epoch 34/100\n",
      "29/29 - 0s - loss: 0.0528 - accuracy: 0.9956 - 42ms/epoch - 1ms/step\n",
      "Epoch 35/100\n",
      "29/29 - 0s - loss: 0.0524 - accuracy: 0.9956 - 55ms/epoch - 2ms/step\n",
      "Epoch 36/100\n",
      "29/29 - 0s - loss: 0.0514 - accuracy: 0.9956 - 53ms/epoch - 2ms/step\n",
      "Epoch 37/100\n",
      "29/29 - 0s - loss: 0.0501 - accuracy: 0.9956 - 54ms/epoch - 2ms/step\n",
      "Epoch 38/100\n",
      "29/29 - 0s - loss: 0.0485 - accuracy: 0.9956 - 47ms/epoch - 2ms/step\n",
      "Epoch 39/100\n",
      "29/29 - 0s - loss: 0.0476 - accuracy: 0.9956 - 37ms/epoch - 1ms/step\n",
      "Epoch 40/100\n",
      "29/29 - 0s - loss: 0.0467 - accuracy: 0.9956 - 36ms/epoch - 1ms/step\n",
      "Epoch 41/100\n",
      "29/29 - 0s - loss: 0.0455 - accuracy: 0.9956 - 37ms/epoch - 1ms/step\n",
      "Epoch 42/100\n",
      "29/29 - 0s - loss: 0.0453 - accuracy: 0.9956 - 39ms/epoch - 1ms/step\n",
      "Epoch 43/100\n",
      "29/29 - 0s - loss: 0.0446 - accuracy: 0.9956 - 54ms/epoch - 2ms/step\n",
      "Epoch 44/100\n",
      "29/29 - 0s - loss: 0.0431 - accuracy: 0.9956 - 54ms/epoch - 2ms/step\n",
      "Epoch 45/100\n",
      "29/29 - 0s - loss: 0.0423 - accuracy: 0.9956 - 44ms/epoch - 2ms/step\n",
      "Epoch 46/100\n",
      "29/29 - 0s - loss: 0.0414 - accuracy: 0.9956 - 37ms/epoch - 1ms/step\n",
      "Epoch 47/100\n",
      "29/29 - 0s - loss: 0.0407 - accuracy: 0.9956 - 38ms/epoch - 1ms/step\n",
      "Epoch 48/100\n",
      "29/29 - 0s - loss: 0.0400 - accuracy: 0.9956 - 39ms/epoch - 1ms/step\n",
      "Epoch 49/100\n",
      "29/29 - 0s - loss: 0.0395 - accuracy: 0.9956 - 62ms/epoch - 2ms/step\n",
      "Epoch 50/100\n",
      "29/29 - 0s - loss: 0.0387 - accuracy: 0.9956 - 53ms/epoch - 2ms/step\n",
      "Epoch 51/100\n",
      "29/29 - 0s - loss: 0.0380 - accuracy: 0.9956 - 53ms/epoch - 2ms/step\n",
      "Epoch 52/100\n",
      "29/29 - 0s - loss: 0.0373 - accuracy: 0.9956 - 35ms/epoch - 1ms/step\n",
      "Epoch 53/100\n",
      "29/29 - 0s - loss: 0.0366 - accuracy: 0.9956 - 38ms/epoch - 1ms/step\n",
      "Epoch 54/100\n",
      "29/29 - 0s - loss: 0.0363 - accuracy: 0.9956 - 38ms/epoch - 1ms/step\n",
      "Epoch 55/100\n",
      "29/29 - 0s - loss: 0.0354 - accuracy: 0.9956 - 36ms/epoch - 1ms/step\n",
      "Epoch 56/100\n",
      "29/29 - 0s - loss: 0.0348 - accuracy: 0.9956 - 35ms/epoch - 1ms/step\n",
      "Epoch 57/100\n",
      "29/29 - 0s - loss: 0.0344 - accuracy: 0.9956 - 36ms/epoch - 1ms/step\n",
      "Epoch 58/100\n",
      "29/29 - 0s - loss: 0.0340 - accuracy: 0.9967 - 38ms/epoch - 1ms/step\n",
      "Epoch 59/100\n",
      "29/29 - 0s - loss: 0.0331 - accuracy: 0.9956 - 37ms/epoch - 1ms/step\n",
      "Epoch 60/100\n",
      "29/29 - 0s - loss: 0.0326 - accuracy: 0.9967 - 35ms/epoch - 1ms/step\n",
      "Epoch 61/100\n",
      "29/29 - 0s - loss: 0.0319 - accuracy: 0.9967 - 37ms/epoch - 1ms/step\n",
      "Epoch 62/100\n",
      "29/29 - 0s - loss: 0.0315 - accuracy: 0.9967 - 37ms/epoch - 1ms/step\n",
      "Epoch 63/100\n",
      "29/29 - 0s - loss: 0.0320 - accuracy: 0.9967 - 36ms/epoch - 1ms/step\n",
      "Epoch 64/100\n",
      "29/29 - 0s - loss: 0.0306 - accuracy: 0.9967 - 36ms/epoch - 1ms/step\n",
      "Epoch 65/100\n",
      "29/29 - 0s - loss: 0.0301 - accuracy: 0.9967 - 35ms/epoch - 1ms/step\n",
      "Epoch 66/100\n",
      "29/29 - 0s - loss: 0.0296 - accuracy: 0.9967 - 36ms/epoch - 1ms/step\n",
      "Epoch 67/100\n",
      "29/29 - 0s - loss: 0.0292 - accuracy: 0.9967 - 37ms/epoch - 1ms/step\n",
      "Epoch 68/100\n",
      "29/29 - 0s - loss: 0.0289 - accuracy: 0.9967 - 36ms/epoch - 1ms/step\n",
      "Epoch 69/100\n",
      "29/29 - 0s - loss: 0.0288 - accuracy: 0.9967 - 42ms/epoch - 1ms/step\n",
      "Epoch 70/100\n",
      "29/29 - 0s - loss: 0.0280 - accuracy: 0.9967 - 36ms/epoch - 1ms/step\n",
      "Epoch 71/100\n",
      "29/29 - 0s - loss: 0.0275 - accuracy: 0.9967 - 36ms/epoch - 1ms/step\n",
      "Epoch 72/100\n",
      "29/29 - 0s - loss: 0.0275 - accuracy: 0.9967 - 36ms/epoch - 1ms/step\n",
      "Epoch 73/100\n",
      "29/29 - 0s - loss: 0.0270 - accuracy: 0.9967 - 36ms/epoch - 1ms/step\n",
      "Epoch 74/100\n",
      "29/29 - 0s - loss: 0.0266 - accuracy: 0.9967 - 36ms/epoch - 1ms/step\n",
      "Epoch 75/100\n",
      "29/29 - 0s - loss: 0.0263 - accuracy: 0.9967 - 35ms/epoch - 1ms/step\n",
      "Epoch 76/100\n",
      "29/29 - 0s - loss: 0.0259 - accuracy: 0.9967 - 36ms/epoch - 1ms/step\n",
      "Epoch 77/100\n",
      "29/29 - 0s - loss: 0.0255 - accuracy: 0.9967 - 36ms/epoch - 1ms/step\n",
      "Epoch 78/100\n",
      "29/29 - 0s - loss: 0.0255 - accuracy: 0.9967 - 38ms/epoch - 1ms/step\n",
      "Epoch 79/100\n",
      "29/29 - 0s - loss: 0.0248 - accuracy: 0.9967 - 53ms/epoch - 2ms/step\n",
      "Epoch 80/100\n",
      "29/29 - 0s - loss: 0.0249 - accuracy: 0.9967 - 51ms/epoch - 2ms/step\n",
      "Epoch 81/100\n",
      "29/29 - 0s - loss: 0.0247 - accuracy: 0.9967 - 51ms/epoch - 2ms/step\n",
      "Epoch 82/100\n",
      "29/29 - 0s - loss: 0.0238 - accuracy: 0.9967 - 41ms/epoch - 1ms/step\n",
      "Epoch 83/100\n",
      "29/29 - 0s - loss: 0.0236 - accuracy: 0.9967 - 35ms/epoch - 1ms/step\n",
      "Epoch 84/100\n",
      "29/29 - 0s - loss: 0.0235 - accuracy: 0.9967 - 36ms/epoch - 1ms/step\n",
      "Epoch 85/100\n",
      "29/29 - 0s - loss: 0.0232 - accuracy: 0.9967 - 34ms/epoch - 1ms/step\n",
      "Epoch 86/100\n",
      "29/29 - 0s - loss: 0.0234 - accuracy: 0.9967 - 36ms/epoch - 1ms/step\n",
      "Epoch 87/100\n",
      "29/29 - 0s - loss: 0.0227 - accuracy: 0.9967 - 36ms/epoch - 1ms/step\n",
      "Epoch 88/100\n",
      "29/29 - 0s - loss: 0.0225 - accuracy: 0.9967 - 36ms/epoch - 1ms/step\n",
      "Epoch 89/100\n",
      "29/29 - 0s - loss: 0.0221 - accuracy: 0.9967 - 34ms/epoch - 1ms/step\n",
      "Epoch 90/100\n",
      "29/29 - 0s - loss: 0.0219 - accuracy: 0.9967 - 35ms/epoch - 1ms/step\n",
      "Epoch 91/100\n",
      "29/29 - 0s - loss: 0.0216 - accuracy: 0.9967 - 35ms/epoch - 1ms/step\n",
      "Epoch 92/100\n",
      "29/29 - 0s - loss: 0.0215 - accuracy: 0.9967 - 42ms/epoch - 1ms/step\n",
      "Epoch 93/100\n",
      "29/29 - 0s - loss: 0.0220 - accuracy: 0.9967 - 54ms/epoch - 2ms/step\n",
      "Epoch 94/100\n",
      "29/29 - 0s - loss: 0.0213 - accuracy: 0.9967 - 54ms/epoch - 2ms/step\n",
      "Epoch 95/100\n",
      "29/29 - 0s - loss: 0.0208 - accuracy: 0.9967 - 58ms/epoch - 2ms/step\n",
      "Epoch 96/100\n",
      "29/29 - 0s - loss: 0.0205 - accuracy: 0.9967 - 51ms/epoch - 2ms/step\n",
      "Epoch 97/100\n",
      "29/29 - 0s - loss: 0.0202 - accuracy: 0.9967 - 42ms/epoch - 1ms/step\n",
      "Epoch 98/100\n",
      "29/29 - 0s - loss: 0.0202 - accuracy: 0.9967 - 36ms/epoch - 1ms/step\n",
      "Epoch 99/100\n",
      "29/29 - 0s - loss: 0.0201 - accuracy: 0.9967 - 35ms/epoch - 1ms/step\n",
      "Epoch 100/100\n",
      "29/29 - 0s - loss: 0.0198 - accuracy: 0.9967 - 35ms/epoch - 1ms/step\n"
     ]
    },
    {
     "data": {
      "text/plain": [
       "<keras.callbacks.History at 0x1bf0a5339a0>"
      ]
     },
     "execution_count": 43,
     "metadata": {},
     "output_type": "execute_result"
    }
   ],
   "source": [
    "#training the model on training data \n",
    "\n",
    "model.fit(scaled_X_train, y_train, epochs=100, verbose=2)"
   ]
  },
  {
   "cell_type": "code",
   "execution_count": 44,
   "id": "ccf45379",
   "metadata": {},
   "outputs": [
    {
     "name": "stdout",
     "output_type": "stream",
     "text": [
      "15/15 [==============================] - 0s 1ms/step\n"
     ]
    }
   ],
   "source": [
    "#testing model on test data \n",
    "\n",
    "# model.predict_classes(Scaled_X_test)\n",
    "\n",
    "predictions = (model.predict(scaled_X_test) > 0.5).astype(\"int32\")"
   ]
  },
  {
   "cell_type": "code",
   "execution_count": 45,
   "id": "bbe8bffc",
   "metadata": {},
   "outputs": [],
   "source": [
    "#predictions"
   ]
  },
  {
   "cell_type": "code",
   "execution_count": 46,
   "id": "c4bfd893",
   "metadata": {},
   "outputs": [
    {
     "data": {
      "text/plain": [
       "['loss', 'accuracy']"
      ]
     },
     "execution_count": 46,
     "metadata": {},
     "output_type": "execute_result"
    }
   ],
   "source": [
    "#evaluating the model \n",
    "\n",
    "model.metrics_names"
   ]
  },
  {
   "cell_type": "code",
   "execution_count": 47,
   "id": "1d9c52ba",
   "metadata": {},
   "outputs": [],
   "source": [
    "from sklearn.metrics import confusion_matrix,classification_report"
   ]
  },
  {
   "cell_type": "code",
   "execution_count": 48,
   "id": "24569984",
   "metadata": {},
   "outputs": [
    {
     "data": {
      "text/plain": [
       "array([[254,   3],\n",
       "       [  0, 196]], dtype=int64)"
      ]
     },
     "execution_count": 48,
     "metadata": {},
     "output_type": "execute_result"
    }
   ],
   "source": [
    "confusion_matrix(y_test,predictions)"
   ]
  },
  {
   "cell_type": "code",
   "execution_count": 49,
   "id": "587af909",
   "metadata": {},
   "outputs": [
    {
     "name": "stdout",
     "output_type": "stream",
     "text": [
      "              precision    recall  f1-score   support\n",
      "\n",
      "         0.0       1.00      0.99      0.99       257\n",
      "         1.0       0.98      1.00      0.99       196\n",
      "\n",
      "    accuracy                           0.99       453\n",
      "   macro avg       0.99      0.99      0.99       453\n",
      "weighted avg       0.99      0.99      0.99       453\n",
      "\n"
     ]
    }
   ],
   "source": [
    "print(classification_report(y_test,predictions))"
   ]
  },
  {
   "cell_type": "code",
   "execution_count": 50,
   "id": "fd9a74cc",
   "metadata": {},
   "outputs": [],
   "source": [
    "#saving and loading a model\n",
    "\n",
    "model.save('supermodel.h5')"
   ]
  },
  {
   "cell_type": "code",
   "execution_count": 42,
   "id": "3eef8db5",
   "metadata": {},
   "outputs": [],
   "source": [
    "from keras.models import load_model\n",
    "\n",
    "new_model = load_model('supermodel.h5')"
   ]
  },
  {
   "cell_type": "code",
   "execution_count": null,
   "id": "5f8e7128",
   "metadata": {},
   "outputs": [],
   "source": []
  }
 ],
 "metadata": {
  "kernelspec": {
   "display_name": "Python 3 (ipykernel)",
   "language": "python",
   "name": "python3"
  },
  "language_info": {
   "codemirror_mode": {
    "name": "ipython",
    "version": 3
   },
   "file_extension": ".py",
   "mimetype": "text/x-python",
   "name": "python",
   "nbconvert_exporter": "python",
   "pygments_lexer": "ipython3",
   "version": "3.9.13"
  }
 },
 "nbformat": 4,
 "nbformat_minor": 5
}
